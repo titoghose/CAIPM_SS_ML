{
 "cells": [
  {
   "cell_type": "markdown",
   "metadata": {},
   "source": [
    "# Loading Python packages\n",
    "\n",
    "The packages have pre-written code to complete a wide range of tasks."
   ]
  },
  {
   "cell_type": "code",
   "execution_count": null,
   "metadata": {},
   "outputs": [],
   "source": [
    "import pandas as pd\n",
    "import numpy as np\n",
    "from scipy import stats\n",
    "import seaborn as sns\n",
    "import matplotlib.pyplot as plt\n",
    "\n",
    "%matplotlib inline\n",
    "%config InlineBackend.figure_format = 'retina'"
   ]
  },
  {
   "cell_type": "markdown",
   "metadata": {},
   "source": [
    "# Downloading and loading data into Python"
   ]
  },
  {
   "cell_type": "code",
   "execution_count": null,
   "metadata": {},
   "outputs": [],
   "source": [
    "!wget \"https://raw.githubusercontent.com/titoghose/CAIPM_SS_ML/master/cardiovascular_diseases_dv3.csv\""
   ]
  },
  {
   "cell_type": "code",
   "execution_count": null,
   "metadata": {},
   "outputs": [],
   "source": [
    "cardio_data = pd.read_csv('cardiovascular_diseases_dv3.csv')\n",
    "cardio_data.rename(columns={'AP_HIGH':'SYSTOLIC', 'AP_LOW':'DIASTOLIC'}, inplace=True)\n",
    "label = 'CARDIO_DISEASE'\n",
    "variables = cardio_data.columns.to_list()[:-1]\n",
    "cardio_data.head()"
   ]
  },
  {
   "cell_type": "markdown",
   "metadata": {},
   "source": [
    "# Visualising data\n",
    "\n",
    "Visualising your data before fitting models to it can be quite insightful, as\n",
    "compared to just blindly fitting a model to the data and obtaining an accuracy\n",
    "score. \n",
    "\n",
    "Some plot options include:\n",
    "1. Scatter plots \n",
    "2. Violin/strip/box plots \n",
    "3. Distribution/histogram/KDE plots \n",
    "\n",
    "Some more advanced visualisation methods which let you see the effect of\n",
    "multiplt variables at once include:\n",
    "1. Principal component analysis (PCA)\n",
    "2. t-SNE \n",
    "3. U-MAP \n",
    "\n",
    "For the purpose of this workshop, we will be using the Python packages called\n",
    "[seaborn](http://seaborn.pydata.org/) and [matplotlib](https://matplotlib.org/),\n",
    "which makes life easier."
   ]
  },
  {
   "cell_type": "markdown",
   "metadata": {},
   "source": [
    "## Scatter, box and histogram plots for systolic blood pressure"
   ]
  },
  {
   "cell_type": "code",
   "execution_count": null,
   "metadata": {},
   "outputs": [],
   "source": [
    "# 1. Scatter\n",
    "sns.scatterplot(data=cardio_data, x='SYSTOLIC', y='CARDIO_DISEASE')\n",
    "\n",
    "# 2. Violin\n",
    "# sns.boxplot(data=cardio_data, x='CARDIO_DISEASE', y='SYSTOLIC')\n",
    "\n",
    "# If we have a variable that we want to visualise, and the samples or\n",
    "# readings for that variable come from various groups, seaborn has an\n",
    "# option called 'hue' which internally splits the data into these groups\n",
    "# and plots them in different colors. This is very helpful when we want\n",
    "# to view the distribution of, let's say, systolic blood pressure\n",
    "# between those with and without cadiovascular diseases.\n",
    "\n",
    "# 3. Histogram\n",
    "# sns.histplot(data=cardio_data, x='SYSTOLIC', hue='CARDIO_DISEASE',\n",
    "# stat='probability')"
   ]
  },
  {
   "cell_type": "code",
   "execution_count": null,
   "metadata": {},
   "outputs": [],
   "source": [
    "fig, ax = plt.subplots(1, 3, figsize=(15, 6))\n",
    "ax = ax.flatten()\n",
    "sns.scatterplot(data=cardio_data, x='SYSTOLIC', y='CARDIO_DISEASE', ax=ax[0])\n",
    "sns.boxplot(data=cardio_data, x='CARDIO_DISEASE', y='SYSTOLIC', ax=ax[1])\n",
    "sns.histplot(data=cardio_data, x='SYSTOLIC', hue='CARDIO_DISEASE', stat='probability', ax=ax[2])\n",
    "plt.tight_layout()\n"
   ]
  },
  {
   "cell_type": "markdown",
   "metadata": {},
   "source": [
    "## Exercise 1.\n",
    "\n",
    "Generate a scatterplot, boxplot and histogram plot to understand the\n",
    "relationship between BMI and cardiovascular disease.\n",
    "\n",
    "**HINT:** \n",
    "\n",
    "BMI = (weight in kg)/(height in m)^2\n",
    "\n",
    "In the data, you have weight in kg, and height in cm (1m = 100cm). \n",
    "\n",
    "In Python, to calculate c = a/b^2, we would write something like this: c = a/"
   ]
  },
  {
   "cell_type": "code",
   "execution_count": null,
   "metadata": {},
   "outputs": [],
   "source": [
    "bmi = # Add your code here\n",
    "cardio_data.insert(4, 'BMI', bmi)\n",
    "\n",
    "fig, ax = plt.subplots(1, 3, figsize=(15, 6))\n",
    "ax = ax.flatten()\n",
    "# Scatter plot function\n",
    "# Box plot function\n",
    "# Histogram plot function\n",
    "plt.tight_layout()"
   ]
  },
  {
   "cell_type": "markdown",
   "metadata": {},
   "source": [
    "Do you spot anything weird in the data? Any values look really odd and out of\n",
    "range? \n",
    "\n",
    "Anything weird in these plots:"
   ]
  },
  {
   "cell_type": "code",
   "execution_count": null,
   "metadata": {},
   "outputs": [],
   "source": [
    "fig, ax = plt.subplots(1, len(cardio_data.columns)-1, figsize=(30, 5))\n",
    "ax = ax.flatten()\n",
    "for ci, c in enumerate(cardio_data.columns[:-1]):\n",
    "    sns.boxplot(data=cardio_data, x='CARDIO_DISEASE', y=c, ax=ax[ci])\n",
    "plt.tight_layout()"
   ]
  },
  {
   "cell_type": "markdown",
   "metadata": {},
   "source": [
    "# Remove outlier points to clean up the data\n",
    "\n",
    "Sometimes outlier points may be legitimate data points while others may be a\n",
    "mistake in data entry, or something similar.\n",
    "\n",
    "* From the above plots, a weight of 200kg may be possible, but it may be an entry\n",
    "mistake. \n",
    "* However, multiple values of height <100cm would probably be\n",
    "some sort of entry mistake. The shortest person in the world is 54cm, and the\n",
    "average height of people having dwarfism is 122cm.\n",
    "\n",
    "A simple way of removing outliers from data following a normal distribution is\n",
    "to remove values which are greater than 3-4 standard deviations from the mean."
   ]
  },
  {
   "cell_type": "code",
   "execution_count": null,
   "metadata": {},
   "outputs": [],
   "source": [
    "weight_zscores = stats.zscore(cardio_data['WEIGHT'])\n",
    "cardio_data_filt = cardio_data.loc[np.abs(weight_zscores) < 3]\n",
    "cardio_data_filt.shape\n",
    "fig, ax = plt.subplots(1, 2, figsize=(10, 5))\n",
    "ax = ax.flatten()\n",
    "for ci, c in enumerate(['HEIGHT', 'WEIGHT']):\n",
    "    sns.boxplot(data=cardio_data_filt, x='CARDIO_DISEASE', y=c, ax=ax[ci])\n",
    "plt.tight_layout()"
   ]
  },
  {
   "cell_type": "markdown",
   "metadata": {},
   "source": [
    "## Exercise 2.\n",
    "\n",
    "Removing outliers based on weight did not help much, because we got rid of some\n",
    "people with possibly wrongly entered weight information, but the height outliers\n",
    "still remain. \n",
    "\n",
    "A better way could be to remove outliers from the data based on BMI values, if\n",
    "BMI > 3 SD. Do that and see if the data looks a little better.\n",
    "\n",
    "**HINT:** \n",
    "\n",
    "You have already calculated BMI in the earlier exercise, so you can just use\n",
    "that column from the data."
   ]
  },
  {
   "cell_type": "code",
   "execution_count": null,
   "metadata": {},
   "outputs": [],
   "source": [
    "'''\n",
    "Your code to filter outliers based on BMI. \n",
    "Save the filtered data in a dataframe called \"cardio_data_filt\"\n",
    "'''\n",
    "\n",
    "fig, ax = plt.subplots(1, 2, figsize=(10, 5))\n",
    "ax = ax.flatten()\n",
    "for ci, c in enumerate(['HEIGHT', 'WEIGHT']):\n",
    "    sns.boxplot(data=cardio_data_filt, x='CARDIO_DISEASE', y=c, ax=ax[ci])\n",
    "plt.tight_layout()"
   ]
  },
  {
   "cell_type": "markdown",
   "metadata": {},
   "source": [
    "# Save the filtered data for the final analysis"
   ]
  },
  {
   "cell_type": "code",
   "execution_count": null,
   "metadata": {},
   "outputs": [],
   "source": [
    "print('Total number of people in the data: ', cardio_data_filt.shape[0])\n",
    "print('Total number of variables in the data: ', cardio_data_filt.shape[1] - 1)\n",
    "print('Total number of people with cardiovascular diseases: ', cardio_data_filt.loc[cardio_data_filt['CARDIO_DISEASE'] == 1].shape[0])"
   ]
  },
  {
   "cell_type": "markdown",
   "metadata": {},
   "source": [
    "## Exercise 3.\n",
    "\n",
    "Print the number of people who are healthy, i.e. without any cardiovacular diseases."
   ]
  },
  {
   "cell_type": "code",
   "execution_count": null,
   "metadata": {},
   "outputs": [],
   "source": [
    "# Add your code to print the number of people without cardiovascular diseases"
   ]
  },
  {
   "cell_type": "markdown",
   "metadata": {},
   "source": [
    "## Save the pandas dataframe as a CSV file"
   ]
  },
  {
   "cell_type": "code",
   "execution_count": null,
   "metadata": {},
   "outputs": [],
   "source": [
    "cardio_data_filt.to_csv('Filtered_cardiovascular_disease.csv', index=False)"
   ]
  }
 ],
 "metadata": {
  "kernelspec": {
   "display_name": "Python 3.6.9 ('venv')",
   "language": "python",
   "name": "python3"
  },
  "language_info": {
   "codemirror_mode": {
    "name": "ipython",
    "version": 3
   },
   "file_extension": ".py",
   "mimetype": "text/x-python",
   "name": "python",
   "nbconvert_exporter": "python",
   "pygments_lexer": "ipython3",
   "version": "3.6.9"
  },
  "orig_nbformat": 4,
  "vscode": {
   "interpreter": {
    "hash": "b7063436dcde783cc2c983af30376c5d9a18b28d4afd9a7f9c9fa515d5ede3af"
   }
  }
 },
 "nbformat": 4,
 "nbformat_minor": 2
}
