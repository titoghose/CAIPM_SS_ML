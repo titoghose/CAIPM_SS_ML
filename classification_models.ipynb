{
 "cells": [
  {
   "cell_type": "markdown",
   "metadata": {},
   "source": [
    "# Loading Python packages\n",
    "\n",
    "\n",
    "The packages have pre-written code to complete a wide range of tasks."
   ]
  },
  {
   "cell_type": "code",
   "execution_count": null,
   "metadata": {},
   "outputs": [],
   "source": [
    "import pandas as pd\n",
    "import numpy as np\n",
    "from scipy import stats\n",
    "import seaborn as sns\n",
    "import matplotlib.pyplot as plt\n",
    "from sklearn import datasets\n",
    "from sklearn.preprocessing import LabelEncoder\n",
    "from sklearn.model_selection import train_test_split, GridSearchCV\n",
    "from xgboost import XGBClassifier, DMatrix\n",
    "\n",
    "%matplotlib inline\n",
    "%config InlineBackend.figure_format = 'retina'"
   ]
  },
  {
   "cell_type": "markdown",
   "metadata": {},
   "source": [
    "# Load iris and cardiovascular datasets"
   ]
  },
  {
   "cell_type": "code",
   "execution_count": null,
   "metadata": {},
   "outputs": [],
   "source": [
    "iris_data = datasets.load_iris()\n",
    "iris_data_X = iris_data['data']\n",
    "iris_data_Y = iris_data['target']\n",
    "iris_xtrain, iris_xtest, iris_ytrain, iris_ytest = train_test_split(iris_data_X, iris_data_Y, test_size=0.3, random_state=123)\n",
    "print('Iris train size and num features: ', iris_xtrain.shape)\n",
    "print('Iris test size and num features: ', iris_xtest.shape)\n",
    "\n",
    "cardio_data = pd.read_csv('../Filtered_cardiovascular_disease.csv')\n",
    "cardio_data_X = cardio_data.iloc[:, :-1].values\n",
    "cardio_data_Y = LabelEncoder().fit_transform(cardio_data['CARDIO_DISEASE'].values)\n",
    "cardio_xtrain, cardio_xtest, cardio_ytrain, cardio_ytest = train_test_split(cardio_data_X, cardio_data_Y, test_size=0.2, random_state=123)\n",
    "print('Cardio train size and num features: ', cardio_xtrain.shape)\n",
    "print('Cardio test size and num features: ', cardio_xtest.shape)"
   ]
  },
  {
   "cell_type": "markdown",
   "metadata": {},
   "source": [
    "# Gradient Boosted Trees"
   ]
  },
  {
   "cell_type": "markdown",
   "metadata": {},
   "source": [
    "### XGBoost classification model for the iris dataset\n",
    "\n",
    "Train and evaluate the performance of an XGBClassifier model on the iris\n",
    "dataset using the default model parameters."
   ]
  },
  {
   "cell_type": "code",
   "execution_count": null,
   "metadata": {},
   "outputs": [],
   "source": [
    "xgb_model = XGBClassifier(use_label_encoder=False, eval_metric='mlogloss')\n",
    "xgb_model.fit(iris_xtrain, iris_ytrain)\n",
    "train_acc = xgb_model.score(iris_xtrain, iris_ytrain)\n",
    "print('XGBClassifier training complete!')\n",
    "print('XGBClassifier train set accuracy: ', train_acc)\n",
    "test_acc = xgb_model.score(iris_xtest, iris_ytest)\n",
    "print('XGBClassifier test set accuracy: ', test_acc)"
   ]
  },
  {
   "cell_type": "markdown",
   "metadata": {},
   "source": [
    "### Use \"grid search\" to find the best set of paramters for the model from a set of parameters."
   ]
  },
  {
   "cell_type": "code",
   "execution_count": null,
   "metadata": {},
   "outputs": [],
   "source": [
    "xgb_model = XGBClassifier(use_label_encoder=False, eval_metric='mlogloss')\n",
    "model_params = {\n",
    "    'booster':['gbtree', 'dart'],\n",
    "    'learning_rate':[0.1, 0.2, 0.3],\n",
    "    'max_depth':[3, 6, 9],\n",
    "    'gamma':[0, 0.1]\n",
    "}\n",
    "\n",
    "grid = GridSearchCV(xgb_model, model_params, cv=5, verbose=1)\n",
    "grid.fit(iris_xtrain, iris_ytrain)\n",
    "train_acc = grid.score(iris_xtrain, iris_ytrain)\n",
    "print('XGBClassifier training complete!')\n",
    "print('XGBClassifier train set accuracy: ', train_acc)\n",
    "test_acc = grid.score(iris_xtest, iris_ytest)\n",
    "print('XGBClassifier test set accuracy: ', test_acc)"
   ]
  },
  {
   "cell_type": "markdown",
   "metadata": {},
   "source": [
    "## Exercise 1.\n",
    "\n",
    "Train an XGBoost classifier on the cardiovascular dataset."
   ]
  },
  {
   "cell_type": "code",
   "execution_count": null,
   "metadata": {},
   "outputs": [],
   "source": [
    "'''\n",
    "Add your code to train and test an XGBoost classifier model on the\n",
    "cardiovascular dataset.\n",
    "'''"
   ]
  },
  {
   "cell_type": "code",
   "execution_count": null,
   "metadata": {},
   "outputs": [],
   "source": [
    "'''\n",
    "Add your code to perform a random search of parameters for the XGBoost\n",
    "model, to see if you can improve the performance.\n",
    "Tip: Try Googling RandomizedSearchCV in scikit-learn\n",
    "'''"
   ]
  },
  {
   "cell_type": "code",
   "execution_count": null,
   "metadata": {},
   "outputs": [],
   "source": [
    "import shap\n",
    "\n",
    "explainer = shap.TreeExplainer(xgb_model)\n",
    "Xd = DMatrix(cardio_xtrain, label=cardio_ytrain)\n",
    "shap_values = explainer.shap_values(Xd)\n",
    "cardio_xtrain_df = pd.DataFrame(cardio_xtrain, columns=cardio_data.columns[:-1])\n",
    "shap.summary_plot(shap_values, cardio_xtrain_df)"
   ]
  }
 ],
 "metadata": {
  "kernelspec": {
   "display_name": "Python 3.6.9 ('venv')",
   "language": "python",
   "name": "python3"
  },
  "language_info": {
   "codemirror_mode": {
    "name": "ipython",
    "version": 3
   },
   "file_extension": ".py",
   "mimetype": "text/x-python",
   "name": "python",
   "nbconvert_exporter": "python",
   "pygments_lexer": "ipython3",
   "version": "3.6.9"
  },
  "orig_nbformat": 4,
  "vscode": {
   "interpreter": {
    "hash": "b7063436dcde783cc2c983af30376c5d9a18b28d4afd9a7f9c9fa515d5ede3af"
   }
  }
 },
 "nbformat": 4,
 "nbformat_minor": 2
}
